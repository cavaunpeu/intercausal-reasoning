{
 "cells": [
  {
   "cell_type": "code",
   "execution_count": 4,
   "metadata": {
    "collapsed": true
   },
   "outputs": [],
   "source": [
    "import matplotlib.pyplot as plt\n",
    "import numpy as np\n",
    "\n",
    "%matpotlib inline"
   ]
  },
  {
   "cell_type": "code",
   "execution_count": 55,
   "metadata": {
    "collapsed": true
   },
   "outputs": [],
   "source": [
    "# simulate data"
   ]
  },
  {
   "cell_type": "code",
   "execution_count": 50,
   "metadata": {
    "collapsed": true
   },
   "outputs": [],
   "source": [
    "PRESIDENT_PROBABILITY = .01\n",
    "ACCIDENT_PROBABILITY = .1\n",
    "TRIALS = 1000000"
   ]
  },
  {
   "cell_type": "code",
   "execution_count": 51,
   "metadata": {
    "collapsed": false
   },
   "outputs": [],
   "source": [
    "president = np.random.binomial(n=1, p=PRESIDENT_PROBABILITY, size=TRIALS)\n",
    "accident = np.random.binomial(n=1, p=ACCIDENT_PROBABILITY, size=TRIALS)"
   ]
  },
  {
   "cell_type": "code",
   "execution_count": 52,
   "metadata": {
    "collapsed": false
   },
   "outputs": [
    {
     "name": "stdout",
     "output_type": "stream",
     "text": [
      "President Mean: 0.009838\n",
      "Accident Mean: 0.100273\n"
     ]
    }
   ],
   "source": [
    "print( 'President Mean: {}'.format(president.mean()) )\n",
    "print( 'Accident Mean: {}'.format(accident.mean()) )"
   ]
  },
  {
   "cell_type": "code",
   "execution_count": 53,
   "metadata": {
    "collapsed": true
   },
   "outputs": [],
   "source": [
    "traffic_probabilities = []\n",
    "for president_observed, accident_observed in zip(president, accident):\n",
    "    if not president_observed:\n",
    "        probability = .5 if accident_observed else .1\n",
    "    else:\n",
    "        probability = .9 if accident_observed else .6\n",
    "    traffic_probabilities.append( probability )\n",
    "    \n",
    "traffic = np.random.binomial(n=1, p=traffic_probabilities)"
   ]
  },
  {
   "cell_type": "code",
   "execution_count": 54,
   "metadata": {
    "collapsed": false
   },
   "outputs": [
    {
     "name": "stdout",
     "output_type": "stream",
     "text": [
      "Traffic Mean: 0.14487\n"
     ]
    }
   ],
   "source": [
    "print( 'Traffic Mean: {}'.format(traffic.mean()) )"
   ]
  },
  {
   "cell_type": "code",
   "execution_count": null,
   "metadata": {
    "collapsed": true
   },
   "outputs": [],
   "source": [
    "# probabilities are no longer fixed values, but distributions"
   ]
  },
  {
   "cell_type": "code",
   "execution_count": 66,
   "metadata": {
    "collapsed": true
   },
   "outputs": [],
   "source": [
    "times_president_observed = sum(president)\n",
    "times_president_not_observed = len(president) - times_president_observed\n",
    "\n",
    "president_probability_samples = np.random.beta(\n",
    "    a=1 + times_president_observed, \n",
    "    b=1 + times_president_not_observed, \n",
    "    size=4567\n",
    ")"
   ]
  },
  {
   "cell_type": "code",
   "execution_count": 70,
   "metadata": {
    "collapsed": true
   },
   "outputs": [],
   "source": [
    "times_accident_observed = sum(accident)\n",
    "times_accident_not_observed = len(accident) - times_accident_observed\n",
    "\n",
    "accident_probability_samples = np.random.beta(\n",
    "    a=1 + times_accident_observed, \n",
    "    b=1 + times_accident_not_observed, \n",
    "    size=4567\n",
    ")"
   ]
  },
  {
   "cell_type": "code",
   "execution_count": 71,
   "metadata": {
    "collapsed": false
   },
   "outputs": [],
   "source": [
    "# to compute things like P(y=1|a=1, p=0), well, it's logistic regression! \n",
    "# then make counterfactual plots to examine how probability varies with inputs"
   ]
  }
 ],
 "metadata": {
  "kernelspec": {
   "display_name": "Python 3",
   "language": "python",
   "name": "python3"
  },
  "language_info": {
   "codemirror_mode": {
    "name": "ipython",
    "version": 3
   },
   "file_extension": ".py",
   "mimetype": "text/x-python",
   "name": "python",
   "nbconvert_exporter": "python",
   "pygments_lexer": "ipython3",
   "version": "3.6.0"
  }
 },
 "nbformat": 4,
 "nbformat_minor": 2
}
