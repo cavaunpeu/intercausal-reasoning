{
 "cells": [
  {
   "cell_type": "code",
   "execution_count": 4,
   "metadata": {
    "collapsed": true
   },
   "outputs": [],
   "source": [
    "import matplotlib.pyplot as plt\n",
    "import numpy as np\n",
    "\n",
    "%matpotlib inline"
   ]
  },
  {
   "cell_type": "code",
   "execution_count": 22,
   "metadata": {
    "collapsed": true
   },
   "outputs": [],
   "source": [
    "PRESIDENT_PROBABILITY = .01\n",
    "ACCIDENT_PROBABILITY = .1\n",
    "TRIALS = 100"
   ]
  },
  {
   "cell_type": "code",
   "execution_count": 41,
   "metadata": {
    "collapsed": false
   },
   "outputs": [],
   "source": [
    "president = np.random.binomial(n=1, p=PRESIDENT_PROBABILITY, size=TRIALS)\n",
    "accident = np.random.binomial(n=1, p=ACCIDENT_PROBABILITY, size=TRIALS)"
   ]
  },
  {
   "cell_type": "code",
   "execution_count": 42,
   "metadata": {
    "collapsed": false
   },
   "outputs": [
    {
     "name": "stdout",
     "output_type": "stream",
     "text": [
      "President Mean: 0.01\n",
      "Accident Mean: 0.06\n"
     ]
    }
   ],
   "source": [
    "print( 'President Mean: {}'.format(president.mean()) )\n",
    "print( 'Accident Mean: {}'.format(accident.mean()) )"
   ]
  },
  {
   "cell_type": "code",
   "execution_count": 43,
   "metadata": {
    "collapsed": true
   },
   "outputs": [],
   "source": [
    "traffic_probabilities = []\n",
    "for president_observed, accident_observed in zip(president, accident):\n",
    "    if not president_observed:\n",
    "        probability = .5 if accident_observed else .1\n",
    "    else:\n",
    "        probability = .9 if accident_observed else .6\n",
    "    traffic_probabilities.append( probability )\n",
    "    \n",
    "traffic = np.random.binomial(n=1, p=traffic_probabilities)"
   ]
  },
  {
   "cell_type": "code",
   "execution_count": 44,
   "metadata": {
    "collapsed": false
   },
   "outputs": [
    {
     "data": {
      "text/plain": [
       "0.13"
      ]
     },
     "execution_count": 44,
     "metadata": {},
     "output_type": "execute_result"
    }
   ],
   "source": [
    "print( 'Traffic Mean: {}'.format(traffic.mean()) )"
   ]
  }
 ],
 "metadata": {
  "kernelspec": {
   "display_name": "Python 3",
   "language": "python",
   "name": "python3"
  },
  "language_info": {
   "codemirror_mode": {
    "name": "ipython",
    "version": 3
   },
   "file_extension": ".py",
   "mimetype": "text/x-python",
   "name": "python",
   "nbconvert_exporter": "python",
   "pygments_lexer": "ipython3",
   "version": "3.6.0"
  }
 },
 "nbformat": 4,
 "nbformat_minor": 2
}
